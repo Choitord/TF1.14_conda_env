{
  "cells": [
    {
      "cell_type": "markdown",
      "metadata": {
        "colab_type": "text",
        "id": "pO4-CY_TCZZS"
      },
      "source": [
        "# Train a Simple Audio Recognition model for microcontroller use"
      ]
    },
    {
      "cell_type": "markdown",
      "metadata": {
        "colab_type": "text",
        "id": "BaFfr7DHRmGF"
      },
      "source": [
        "This notebook demonstrates how to train a 20kb [Simple Audio Recognition](https://www.tensorflow.org/tutorials/sequences/audio_recognition) model for [TensorFlow Lite for Microcontrollers](https://tensorflow.org/lite/microcontrollers/overview). It will produce the same model used in the [micro_speech](https://github.com/tensorflow/tensorflow/tree/master/tensorflow/lite/experimental/micro/examples/micro_speech) example application.\n",
        "\n",
        "The model is designed to be used with [Google Colaboratory](https://colab.research.google.com).\n",
        "\n",
        "<table class=\"tfo-notebook-buttons\" align=\"left\">\n",
        "  <td>\n",
        "    <a target=\"_blank\" href=\"https://colab.research.google.com/github/tensorflow/tensorflow/blob/master/tensorflow/lite/experimental/micro/examples/micro_speech/train_speech_model.ipynb\"><img src=\"https://www.tensorflow.org/images/colab_logo_32px.png\" />Run in Google Colab</a>\n",
        "  </td>\n",
        "  <td>\n",
        "    <a target=\"_blank\" href=\"https://github.com/tensorflow/tensorflow/blob/master/tensorflow/lite/experimental/micro/examples/micro_speech/train_speech_model.ipynb\"><img src=\"https://www.tensorflow.org/images/GitHub-Mark-32px.png\" />View source on GitHub</a>\n",
        "  </td>\n",
        "</table>\n"
      ]
    },
    {
      "cell_type": "markdown",
      "metadata": {
        "colab_type": "text",
        "id": "XaVtYN4nlCft"
      },
      "source": [
        "The notebook runs Python scripts to train and freeze the model, and uses the TensorFlow Lite converter to convert it for use with TensorFlow Lite for Microcontrollers.\n",
        "\n",
        "**Training is much faster using GPU acceleration.** Before you proceed, ensure you are using a GPU runtime by going to **Runtime -> Change runtime type** and selecting **GPU**. Training 18,000 iterations will take 1.5-2 hours on a GPU runtime.\n",
        "\n",
        "## Configure training\n",
        "\n",
        "The following `os.environ` lines can be customized to set the words that will be trained for, and the steps and learning rate of the training. The default values will result in the same model that is used in the micro_speech example. Run the cell to set the configuration:"
      ]
    },
    {
      "cell_type": "markdown",
      "metadata": {},
      "source": [
        "###install conda env used .yaml <br>\n",
        "---> [url](https://github.com/Choitord/TF1.14_conda_env.git) <---"
      ]
    },
    {
      "cell_type": "markdown",
      "metadata": {},
      "source": [
        "## env<br/>\n",
        "TensorFlow1.14.0<br>\n",
        "python3.7.x<br>"
      ]
    },
    {
      "cell_type": "code",
      "execution_count": 1,
      "metadata": {
        "colab": {},
        "colab_type": "code",
        "id": "ludfxbNIaegy"
      },
      "outputs": [
        {
          "name": "stdout",
          "output_type": "stream",
          "text": [
            "Training these words: on,off\n",
            "Training steps in each stage: 15000,3000\n",
            "Learning rate in each stage: 0.001,0.0001\n",
            "Total number of training steps: 18000\n"
          ]
        }
      ],
      "source": [
        "import os\n",
        "\n",
        "# A comma-delimited list of the words you want to train for.\n",
        "# The options are: yes,no,up,down,left,right,on,off,stop,go\n",
        "# All other words will be used to train an \"unknown\" category.\n",
        "os.environ[\"WANTED_WORDS\"] = \"on,off\"\n",
        "\n",
        "# The number of steps and learning rates can be specified as comma-separated\n",
        "# lists to define the rate at each stage. For example,\n",
        "# TRAINING_STEPS=15000,3000 and LEARNING_RATE=0.001,0.0001\n",
        "# will run 18,000 training loops in total, with a rate of 0.001 for the first\n",
        "# 15,000, and 0.0001 for the final 3,000.\n",
        "os.environ[\"TRAINING_STEPS\"]=\"15000,3000\"\n",
        "os.environ[\"LEARNING_RATE\"]=\"0.001,0.0001\"\n",
        "\n",
        "# Calculate the total number of steps, which is used to identify the checkpoint\n",
        "# file name.\n",
        "total_steps = sum(map(lambda string: int(string),\n",
        "                  os.environ[\"TRAINING_STEPS\"].split(\",\")))\n",
        "os.environ[\"TOTAL_STEPS\"] = str(total_steps)\n",
        "\n",
        "# Print the configuration to confirm it\n",
        "'''\n",
        "!echo \"Training these words: ${WANTED_WORDS}\"\n",
        "!echo \"Training steps in each stage: ${TRAINING_STEPS}\"\n",
        "!echo \"Learning rate in each stage: ${LEARNING_RATE}\"\n",
        "!echo \"Total number of training steps: ${TOTAL_STEPS}\"\n",
        "'''\n",
        "print(\"Training these words:\", os.environ[\"WANTED_WORDS\"])\n",
        "print(\"Training steps in each stage:\", os.environ[\"TRAINING_STEPS\"])\n",
        "print(\"Learning rate in each stage:\", os.environ[\"LEARNING_RATE\"])\n",
        "print(\"Total number of training steps:\", os.environ[\"TOTAL_STEPS\"])\n"
      ]
    },
    {
      "cell_type": "markdown",
      "metadata": {
        "colab_type": "text",
        "id": "gCgeOpvY9pAi"
      },
      "source": [
        "## Install dependencies\n",
        "\n",
        "Next, we'll install a GPU build of TensorFlow, so we can use GPU acceleration for training."
      ]
    },
    {
      "cell_type": "code",
      "execution_count": 0,
      "metadata": {
        "colab": {},
        "colab_type": "code",
        "id": "Nd1iM1o2ymvA"
      },
      "outputs": [],
      "source": [
        "# Replace Colab's default TensorFlow install with a more recent\n",
        "# build that contains the operations that are needed for training\n",
        "#!pip uninstall -y tensorflow tensorflow_estimator tensorboard\n",
        "#!pip install -q tf-estimator-nightly==1.14.0.dev2019072901 tf-nightly-gpu==1.15.0.dev20190729"
      ]
    },
    {
      "cell_type": "markdown",
      "metadata": {
        "colab_type": "text",
        "id": "T9Ty5mR58E4i"
      },
      "source": [
        "We'll also clone the TensorFlow repository, which contains the scripts that train and freeze the model."
      ]
    },
    {
      "cell_type": "code",
      "execution_count": 2,
      "metadata": {
        "colab": {},
        "colab_type": "code",
        "id": "APGx0fEh7hFF"
      },
      "outputs": [
        {
          "name": "stderr",
          "output_type": "stream",
          "text": [
            "fatal: destination path 'tensorflow' already exists and is not an empty directory.\n"
          ]
        },
        {
          "name": "stdout",
          "output_type": "stream",
          "text": [
            "M\ttensorflow/examples/speech_commands/train.py\n"
          ]
        },
        {
          "name": "stderr",
          "output_type": "stream",
          "text": [
            "HEAD is now at 17ce384df70 Share ownership of `UnboundedWorkQueue` between collective executor and executor manager.\n"
          ]
        }
      ],
      "source": [
        "# Clone the repository from GitHub\n",
        "!git clone -q https://github.com/tensorflow/tensorflow\n",
        "# Check out a commit that has been tested to work\n",
        "# with the build of TensorFlow we're using\n",
        "!git -c advice.detachedHead=false -C tensorflow checkout 17ce384df70"
      ]
    },
    {
      "cell_type": "markdown",
      "metadata": {
        "colab_type": "text",
        "id": "aV_0qkYh98LD"
      },
      "source": [
        "## Load TensorBoard\n",
        "\n",
        "Now, set up TensorBoard so that we can graph our accuracy and loss as training proceeds."
      ]
    },
    {
      "cell_type": "code",
      "execution_count": 5,
      "metadata": {},
      "outputs": [
        {
          "name": "stdout",
          "output_type": "stream",
          "text": [
            "Requirement already satisfied: tensorboard in c:\\users\\phant\\anaconda3\\envs\\tf1\\lib\\site-packages (1.14.0)\n",
            "Requirement already satisfied: grpcio>=1.6.3 in c:\\users\\phant\\anaconda3\\envs\\tf1\\lib\\site-packages (from tensorboard) (1.62.3)\n",
            "Requirement already satisfied: six>=1.10.0 in c:\\users\\phant\\anaconda3\\envs\\tf1\\lib\\site-packages (from tensorboard) (1.17.0)\n",
            "Requirement already satisfied: wheel>=0.26 in c:\\users\\phant\\anaconda3\\envs\\tf1\\lib\\site-packages (from tensorboard) (0.38.4)\n",
            "Requirement already satisfied: markdown>=2.6.8 in c:\\users\\phant\\anaconda3\\envs\\tf1\\lib\\site-packages (from tensorboard) (3.4.4)\n",
            "Requirement already satisfied: protobuf>=3.6.0 in c:\\users\\phant\\anaconda3\\envs\\tf1\\lib\\site-packages (from tensorboard) (3.20.1)\n",
            "Requirement already satisfied: absl-py>=0.4 in c:\\users\\phant\\anaconda3\\envs\\tf1\\lib\\site-packages (from tensorboard) (2.1.0)\n",
            "Requirement already satisfied: setuptools>=41.0.0 in c:\\users\\phant\\anaconda3\\envs\\tf1\\lib\\site-packages (from tensorboard) (65.6.3)\n",
            "Requirement already satisfied: numpy>=1.12.0 in c:\\users\\phant\\anaconda3\\envs\\tf1\\lib\\site-packages (from tensorboard) (1.21.6)\n",
            "Requirement already satisfied: werkzeug>=0.11.15 in c:\\users\\phant\\anaconda3\\envs\\tf1\\lib\\site-packages (from tensorboard) (2.2.3)\n",
            "Requirement already satisfied: importlib-metadata>=4.4 in c:\\users\\phant\\anaconda3\\envs\\tf1\\lib\\site-packages (from markdown>=2.6.8->tensorboard) (6.7.0)\n",
            "Requirement already satisfied: MarkupSafe>=2.1.1 in c:\\users\\phant\\anaconda3\\envs\\tf1\\lib\\site-packages (from werkzeug>=0.11.15->tensorboard) (2.1.5)\n",
            "Requirement already satisfied: typing-extensions>=3.6.4 in c:\\users\\phant\\anaconda3\\envs\\tf1\\lib\\site-packages (from importlib-metadata>=4.4->markdown>=2.6.8->tensorboard) (4.7.1)\n",
            "Requirement already satisfied: zipp>=0.5 in c:\\users\\phant\\anaconda3\\envs\\tf1\\lib\\site-packages (from importlib-metadata>=4.4->markdown>=2.6.8->tensorboard) (3.15.0)\n"
          ]
        }
      ],
      "source": [
        "#!pip uninstall tensorboard\n",
        "!pip install tensorboard"
      ]
    },
    {
      "cell_type": "code",
      "execution_count": 6,
      "metadata": {},
      "outputs": [
        {
          "name": "stdout",
          "output_type": "stream",
          "text": [
            "Name: tensorboard\n",
            "Version: 1.14.0\n",
            "Summary: TensorBoard lets you watch Tensors Flow\n",
            "Home-page: https://github.com/tensorflow/tensorboard\n",
            "Author: Google Inc.\n",
            "Author-email: packages@tensorflow.org\n",
            "License: Apache 2.0\n",
            "Location: c:\\users\\phant\\anaconda3\\envs\\tf1\\lib\\site-packages\n",
            "Requires: absl-py, grpcio, markdown, numpy, protobuf, setuptools, six, werkzeug, wheel\n",
            "Required-by: tensorflow, tensorflow-gpu\n"
          ]
        }
      ],
      "source": [
        "!pip show tensorboard"
      ]
    },
    {
      "cell_type": "markdown",
      "metadata": {
        "colab_type": "text",
        "id": "x1J96Ron-O4R"
      },
      "source": [
        "## Begin training\n",
        "\n",
        "Next, run the following script to begin training. The script will first download the training data:"
      ]
    },
    {
      "cell_type": "code",
      "execution_count": 2,
      "metadata": {},
      "outputs": [
        {
          "data": {
            "text/plain": [
              "'\\n##notion## \\n\\n# if using RTX30XX or Higher  TensorFlow 1.x not support GPU use  (ex. TensorFlow1.14.0 RTX3060 12GB => RTX30xx support Cuda11.x ver. TensorFlow1.x version not support Cuda11.x )\\nBut if you must use TF1.x & RTX30xx(or Higher) , then build own TF1.x use docker, wsl, etc..\\n\"-1\" option for only use CPU \\n\" 0\" option for use GPU \\nif Cudatoolkit & Cudnn was not installed in env GPU didnt load\\n\\ntest env used RTX3060 so defalt was \"-1\", if used RXT1050 changed option to \"0\"\\n\\ntrain time(CPU):64m24s(AMD 9600X) \\n\\n'"
            ]
          },
          "execution_count": 2,
          "metadata": {},
          "output_type": "execute_result"
        }
      ],
      "source": [
        "import os\n",
        "os.environ[\"CUDA_VISIBLE_DEVICES\"] = \"-1\"    \n",
        "\n",
        "'''\n",
        "##notion## \n",
        "\n",
        "# if using RTX30XX or Higher  TensorFlow 1.x not support GPU use  (ex. TensorFlow1.14.0 RTX3060 12GB => RTX30xx support Cuda11.x ver. TensorFlow1.x version not support Cuda11.x )\n",
        "But if you must use TF1.x & RTX30xx(or Higher) , then build own TF1.x use docker, wsl, etc..\n",
        "\"-1\" option for only use CPU \n",
        "\" 0\" option for use GPU \n",
        "if Cudatoolkit & Cudnn was not installed in env GPU didnt load\n",
        "\n",
        "test env used RTX3060 so defalt was \"-1\", if used RXT1050 changed option to \"0\"\n",
        "\n",
        "train time(CPU):64m24s(AMD 9600X) \n",
        "\n",
        "'''"
      ]
    },
    {
      "cell_type": "markdown",
      "metadata": {},
      "source": []
    },
    {
      "cell_type": "code",
      "execution_count": 3,
      "metadata": {
        "colab": {},
        "colab_type": "code",
        "id": "VJsEZx6lynbY"
      },
      "outputs": [
        {
          "name": "stderr",
          "output_type": "stream",
          "text": [
            "python: can't open file 'tensorflow/tensorflow/examples/speech_commands/train.py': [Errno 2] No such file or directory\n"
          ]
        }
      ],
      "source": [
        "!python tensorflow/tensorflow/examples/speech_commands/train.py \\\n",
        "--model_architecture=tiny_conv --window_stride=20 --preprocess=micro \\\n",
        "--wanted_words=%WANTED_WORDS% --silence_percentage=25 --unknown_percentage=25 \\\n",
        "--quantize=1 --verbosity=WARN --how_many_training_steps=%TRAINING_STEPS% \\\n",
        "--learning_rate=%LEARNING_RATE% --summaries_dir=/content/retrain_logs \\\n",
        "--data_dir=/content/data --train_dir=/content/train \\\n"
      ]
    },
    {
      "cell_type": "code",
      "execution_count": null,
      "metadata": {},
      "outputs": [],
      "source": [
        "import tensorflow as tf\n",
        "print(hasattr(tf.contrib, 'quantize'))  # True/False 확인"
      ]
    },
    {
      "cell_type": "markdown",
      "metadata": {
        "colab_type": "text",
        "id": "XQUJLrdS-ftl"
      },
      "source": [
        "## Freeze the graph\n",
        "\n",
        "Once training is complete, run the following cell to freeze the graph."
      ]
    },
    {
      "cell_type": "code",
      "execution_count": 35,
      "metadata": {
        "colab": {},
        "colab_type": "code",
        "id": "xyc3_eLh9sAg"
      },
      "outputs": [
        {
          "name": "stderr",
          "output_type": "stream",
          "text": [
            "c:\\Users\\phant\\anaconda3\\envs\\TF1\\lib\\site-packages\\tensorflow\\python\\framework\\dtypes.py:516: FutureWarning: Passing (type, 1) or '1type' as a synonym of type is deprecated; in a future version of numpy, it will be understood as (type, (1,)) / '(1,)type'.\n",
            "  _np_qint8 = np.dtype([(\"qint8\", np.int8, 1)])\n",
            "c:\\Users\\phant\\anaconda3\\envs\\TF1\\lib\\site-packages\\tensorflow\\python\\framework\\dtypes.py:517: FutureWarning: Passing (type, 1) or '1type' as a synonym of type is deprecated; in a future version of numpy, it will be understood as (type, (1,)) / '(1,)type'.\n",
            "  _np_quint8 = np.dtype([(\"quint8\", np.uint8, 1)])\n",
            "c:\\Users\\phant\\anaconda3\\envs\\TF1\\lib\\site-packages\\tensorflow\\python\\framework\\dtypes.py:518: FutureWarning: Passing (type, 1) or '1type' as a synonym of type is deprecated; in a future version of numpy, it will be understood as (type, (1,)) / '(1,)type'.\n",
            "  _np_qint16 = np.dtype([(\"qint16\", np.int16, 1)])\n",
            "c:\\Users\\phant\\anaconda3\\envs\\TF1\\lib\\site-packages\\tensorflow\\python\\framework\\dtypes.py:519: FutureWarning: Passing (type, 1) or '1type' as a synonym of type is deprecated; in a future version of numpy, it will be understood as (type, (1,)) / '(1,)type'.\n",
            "  _np_quint16 = np.dtype([(\"quint16\", np.uint16, 1)])\n",
            "c:\\Users\\phant\\anaconda3\\envs\\TF1\\lib\\site-packages\\tensorflow\\python\\framework\\dtypes.py:520: FutureWarning: Passing (type, 1) or '1type' as a synonym of type is deprecated; in a future version of numpy, it will be understood as (type, (1,)) / '(1,)type'.\n",
            "  _np_qint32 = np.dtype([(\"qint32\", np.int32, 1)])\n",
            "c:\\Users\\phant\\anaconda3\\envs\\TF1\\lib\\site-packages\\tensorflow\\python\\framework\\dtypes.py:525: FutureWarning: Passing (type, 1) or '1type' as a synonym of type is deprecated; in a future version of numpy, it will be understood as (type, (1,)) / '(1,)type'.\n",
            "  np_resource = np.dtype([(\"resource\", np.ubyte, 1)])\n",
            "c:\\Users\\phant\\anaconda3\\envs\\TF1\\lib\\site-packages\\tensorboard\\compat\\tensorflow_stub\\dtypes.py:541: FutureWarning: Passing (type, 1) or '1type' as a synonym of type is deprecated; in a future version of numpy, it will be understood as (type, (1,)) / '(1,)type'.\n",
            "  _np_qint8 = np.dtype([(\"qint8\", np.int8, 1)])\n",
            "c:\\Users\\phant\\anaconda3\\envs\\TF1\\lib\\site-packages\\tensorboard\\compat\\tensorflow_stub\\dtypes.py:542: FutureWarning: Passing (type, 1) or '1type' as a synonym of type is deprecated; in a future version of numpy, it will be understood as (type, (1,)) / '(1,)type'.\n",
            "  _np_quint8 = np.dtype([(\"quint8\", np.uint8, 1)])\n",
            "c:\\Users\\phant\\anaconda3\\envs\\TF1\\lib\\site-packages\\tensorboard\\compat\\tensorflow_stub\\dtypes.py:543: FutureWarning: Passing (type, 1) or '1type' as a synonym of type is deprecated; in a future version of numpy, it will be understood as (type, (1,)) / '(1,)type'.\n",
            "  _np_qint16 = np.dtype([(\"qint16\", np.int16, 1)])\n",
            "c:\\Users\\phant\\anaconda3\\envs\\TF1\\lib\\site-packages\\tensorboard\\compat\\tensorflow_stub\\dtypes.py:544: FutureWarning: Passing (type, 1) or '1type' as a synonym of type is deprecated; in a future version of numpy, it will be understood as (type, (1,)) / '(1,)type'.\n",
            "  _np_quint16 = np.dtype([(\"quint16\", np.uint16, 1)])\n",
            "c:\\Users\\phant\\anaconda3\\envs\\TF1\\lib\\site-packages\\tensorboard\\compat\\tensorflow_stub\\dtypes.py:545: FutureWarning: Passing (type, 1) or '1type' as a synonym of type is deprecated; in a future version of numpy, it will be understood as (type, (1,)) / '(1,)type'.\n",
            "  _np_qint32 = np.dtype([(\"qint32\", np.int32, 1)])\n",
            "c:\\Users\\phant\\anaconda3\\envs\\TF1\\lib\\site-packages\\tensorboard\\compat\\tensorflow_stub\\dtypes.py:550: FutureWarning: Passing (type, 1) or '1type' as a synonym of type is deprecated; in a future version of numpy, it will be understood as (type, (1,)) / '(1,)type'.\n",
            "  np_resource = np.dtype([(\"resource\", np.ubyte, 1)])\n",
            "2025-05-13 00:32:47.945422: I tensorflow/core/platform/cpu_feature_guard.cc:142] Your CPU supports instructions that this TensorFlow binary was not compiled to use: AVX2\n",
            "2025-05-13 00:32:47.946506: I tensorflow/stream_executor/platform/default/dso_loader.cc:42] Successfully opened dynamic library nvcuda.dll\n",
            "2025-05-13 00:32:47.963159: E tensorflow/stream_executor/cuda/cuda_driver.cc:318] failed call to cuInit: CUDA_ERROR_NO_DEVICE: no CUDA-capable device is detected\n",
            "2025-05-13 00:32:47.966819: I tensorflow/stream_executor/cuda/cuda_diagnostics.cc:169] retrieving CUDA diagnostic information for host: dev\n",
            "2025-05-13 00:32:47.966953: I tensorflow/stream_executor/cuda/cuda_diagnostics.cc:176] hostname: dev\n",
            "INFO:tensorflow:Skipping quant after add\n",
            "I0513 00:32:47.987703 18180 quantize.py:298] Skipping quant after add\n",
            "WARNING:tensorflow:From c:\\Users\\phant\\anaconda3\\envs\\TF1\\lib\\site-packages\\tensorflow\\python\\training\\saver.py:1276: checkpoint_exists (from tensorflow.python.training.checkpoint_management) is deprecated and will be removed in a future version.\n",
            "Instructions for updating:\n",
            "Use standard file APIs to check for files with this prefix.\n",
            "W0513 00:32:47.992702 18180 deprecation.py:323] From c:\\Users\\phant\\anaconda3\\envs\\TF1\\lib\\site-packages\\tensorflow\\python\\training\\saver.py:1276: checkpoint_exists (from tensorflow.python.training.checkpoint_management) is deprecated and will be removed in a future version.\n",
            "Instructions for updating:\n",
            "Use standard file APIs to check for files with this prefix.\n",
            "INFO:tensorflow:Restoring parameters from /content/train/tiny_conv.ckpt-18000\n",
            "I0513 00:32:47.994703 18180 saver.py:1280] Restoring parameters from /content/train/tiny_conv.ckpt-18000\n",
            "WARNING:tensorflow:From tensorflow/tensorflow/examples/speech_commands/freeze.py:170: convert_variables_to_constants (from tensorflow.python.framework.graph_util_impl) is deprecated and will be removed in a future version.\n",
            "Instructions for updating:\n",
            "Use `tf.compat.v1.graph_util.convert_variables_to_constants`\n",
            "W0513 00:32:48.015599 18180 deprecation.py:323] From tensorflow/tensorflow/examples/speech_commands/freeze.py:170: convert_variables_to_constants (from tensorflow.python.framework.graph_util_impl) is deprecated and will be removed in a future version.\n",
            "Instructions for updating:\n",
            "Use `tf.compat.v1.graph_util.convert_variables_to_constants`\n",
            "WARNING:tensorflow:From c:\\Users\\phant\\anaconda3\\envs\\TF1\\lib\\site-packages\\tensorflow\\python\\framework\\graph_util_impl.py:270: extract_sub_graph (from tensorflow.python.framework.graph_util_impl) is deprecated and will be removed in a future version.\n",
            "Instructions for updating:\n",
            "Use `tf.compat.v1.graph_util.extract_sub_graph`\n",
            "W0513 00:32:48.015599 18180 deprecation.py:323] From c:\\Users\\phant\\anaconda3\\envs\\TF1\\lib\\site-packages\\tensorflow\\python\\framework\\graph_util_impl.py:270: extract_sub_graph (from tensorflow.python.framework.graph_util_impl) is deprecated and will be removed in a future version.\n",
            "Instructions for updating:\n",
            "Use `tf.compat.v1.graph_util.extract_sub_graph`\n",
            "INFO:tensorflow:Froze 12 variables.\n",
            "I0513 00:32:48.017599 18180 graph_util_impl.py:311] Froze 12 variables.\n",
            "INFO:tensorflow:Converted 12 variables to const ops.\n",
            "I0513 00:32:48.017599 18180 graph_util_impl.py:364] Converted 12 variables to const ops.\n",
            "INFO:tensorflow:Saved frozen graph to /content/tiny_conv.pb\n",
            "I0513 00:32:48.019599 18180 freeze.py:176] Saved frozen graph to /content/tiny_conv.pb\n"
          ]
        }
      ],
      "source": [
        "!python tensorflow/tensorflow/examples/speech_commands/freeze.py \\\n",
        "--model_architecture=tiny_conv --window_stride=20 --preprocess=mfcc \\\n",
        "--wanted_words=%WANTED_WORDS% --quantize=1 --output_file=/content/tiny_conv.pb \\\n",
        "--start_checkpoint=/content/train/tiny_conv.ckpt-%TOTAL_STEPS%"
      ]
    },
    {
      "cell_type": "markdown",
      "metadata": {
        "colab_type": "text",
        "id": "_DBGDxVI-nKG"
      },
      "source": [
        "## Convert the model\n",
        "\n",
        "Run this cell to use the TensorFlow Lite converter to convert the frozen graph into the TensorFlow Lite format, fully quantized for use with embedded devices."
      ]
    },
    {
      "cell_type": "code",
      "execution_count": 39,
      "metadata": {
        "colab": {},
        "colab_type": "code",
        "id": "lBj_AyCh1cC0"
      },
      "outputs": [
        {
          "name": "stderr",
          "output_type": "stream",
          "text": [
            "C:\\Users\\phant\\anaconda3\\envs\\TF1\\lib\\site-packages\\tensorflow\\python\\framework\\dtypes.py:516: FutureWarning: Passing (type, 1) or '1type' as a synonym of type is deprecated; in a future version of numpy, it will be understood as (type, (1,)) / '(1,)type'.\n",
            "  _np_qint8 = np.dtype([(\"qint8\", np.int8, 1)])\n",
            "C:\\Users\\phant\\anaconda3\\envs\\TF1\\lib\\site-packages\\tensorflow\\python\\framework\\dtypes.py:517: FutureWarning: Passing (type, 1) or '1type' as a synonym of type is deprecated; in a future version of numpy, it will be understood as (type, (1,)) / '(1,)type'.\n",
            "  _np_quint8 = np.dtype([(\"quint8\", np.uint8, 1)])\n",
            "C:\\Users\\phant\\anaconda3\\envs\\TF1\\lib\\site-packages\\tensorflow\\python\\framework\\dtypes.py:518: FutureWarning: Passing (type, 1) or '1type' as a synonym of type is deprecated; in a future version of numpy, it will be understood as (type, (1,)) / '(1,)type'.\n",
            "  _np_qint16 = np.dtype([(\"qint16\", np.int16, 1)])\n",
            "C:\\Users\\phant\\anaconda3\\envs\\TF1\\lib\\site-packages\\tensorflow\\python\\framework\\dtypes.py:519: FutureWarning: Passing (type, 1) or '1type' as a synonym of type is deprecated; in a future version of numpy, it will be understood as (type, (1,)) / '(1,)type'.\n",
            "  _np_quint16 = np.dtype([(\"quint16\", np.uint16, 1)])\n",
            "C:\\Users\\phant\\anaconda3\\envs\\TF1\\lib\\site-packages\\tensorflow\\python\\framework\\dtypes.py:520: FutureWarning: Passing (type, 1) or '1type' as a synonym of type is deprecated; in a future version of numpy, it will be understood as (type, (1,)) / '(1,)type'.\n",
            "  _np_qint32 = np.dtype([(\"qint32\", np.int32, 1)])\n",
            "C:\\Users\\phant\\anaconda3\\envs\\TF1\\lib\\site-packages\\tensorflow\\python\\framework\\dtypes.py:525: FutureWarning: Passing (type, 1) or '1type' as a synonym of type is deprecated; in a future version of numpy, it will be understood as (type, (1,)) / '(1,)type'.\n",
            "  np_resource = np.dtype([(\"resource\", np.ubyte, 1)])\n",
            "C:\\Users\\phant\\anaconda3\\envs\\TF1\\lib\\site-packages\\tensorboard\\compat\\tensorflow_stub\\dtypes.py:541: FutureWarning: Passing (type, 1) or '1type' as a synonym of type is deprecated; in a future version of numpy, it will be understood as (type, (1,)) / '(1,)type'.\n",
            "  _np_qint8 = np.dtype([(\"qint8\", np.int8, 1)])\n",
            "C:\\Users\\phant\\anaconda3\\envs\\TF1\\lib\\site-packages\\tensorboard\\compat\\tensorflow_stub\\dtypes.py:542: FutureWarning: Passing (type, 1) or '1type' as a synonym of type is deprecated; in a future version of numpy, it will be understood as (type, (1,)) / '(1,)type'.\n",
            "  _np_quint8 = np.dtype([(\"quint8\", np.uint8, 1)])\n",
            "C:\\Users\\phant\\anaconda3\\envs\\TF1\\lib\\site-packages\\tensorboard\\compat\\tensorflow_stub\\dtypes.py:543: FutureWarning: Passing (type, 1) or '1type' as a synonym of type is deprecated; in a future version of numpy, it will be understood as (type, (1,)) / '(1,)type'.\n",
            "  _np_qint16 = np.dtype([(\"qint16\", np.int16, 1)])\n",
            "C:\\Users\\phant\\anaconda3\\envs\\TF1\\lib\\site-packages\\tensorboard\\compat\\tensorflow_stub\\dtypes.py:544: FutureWarning: Passing (type, 1) or '1type' as a synonym of type is deprecated; in a future version of numpy, it will be understood as (type, (1,)) / '(1,)type'.\n",
            "  _np_quint16 = np.dtype([(\"quint16\", np.uint16, 1)])\n",
            "C:\\Users\\phant\\anaconda3\\envs\\TF1\\lib\\site-packages\\tensorboard\\compat\\tensorflow_stub\\dtypes.py:545: FutureWarning: Passing (type, 1) or '1type' as a synonym of type is deprecated; in a future version of numpy, it will be understood as (type, (1,)) / '(1,)type'.\n",
            "  _np_qint32 = np.dtype([(\"qint32\", np.int32, 1)])\n",
            "C:\\Users\\phant\\anaconda3\\envs\\TF1\\lib\\site-packages\\tensorboard\\compat\\tensorflow_stub\\dtypes.py:550: FutureWarning: Passing (type, 1) or '1type' as a synonym of type is deprecated; in a future version of numpy, it will be understood as (type, (1,)) / '(1,)type'.\n",
            "  np_resource = np.dtype([(\"resource\", np.ubyte, 1)])\n",
            "2025-05-13 00:33:01.497140: I tensorflow/stream_executor/platform/default/dso_loader.cc:42] Successfully opened dynamic library nvcuda.dll\n",
            "2025-05-13 00:33:01.508715: E tensorflow/stream_executor/cuda/cuda_driver.cc:318] failed call to cuInit: CUDA_ERROR_NO_DEVICE: no CUDA-capable device is detected\n",
            "2025-05-13 00:33:01.511224: I tensorflow/stream_executor/cuda/cuda_diagnostics.cc:169] retrieving CUDA diagnostic information for host: dev\n",
            "2025-05-13 00:33:01.511331: I tensorflow/stream_executor/cuda/cuda_diagnostics.cc:176] hostname: dev\n",
            "2025-05-13 00:33:01.511600: I tensorflow/core/platform/cpu_feature_guard.cc:142] Your CPU supports instructions that this TensorFlow binary was not compiled to use: AVX2\n"
          ]
        }
      ],
      "source": [
        "!toco \\\n",
        "--graph_def_file=/content/tiny_conv.pb --output_file=/content/tiny_conv.tflite \\\n",
        "--input_shapes=1,4000 --input_arrays=Reshape_2 --output_arrays=labels_softmax \\\n",
        "--inference_type=QUANTIZED_UINT8 --mean_values=0 --std_dev_values=9.8077"
      ]
    },
    {
      "cell_type": "markdown",
      "metadata": {
        "colab_type": "text",
        "id": "dt6Zqbxu-wIi"
      },
      "source": [
        "The following cell will print the model size, which will be under 20 kilobytes."
      ]
    },
    {
      "cell_type": "code",
      "execution_count": 40,
      "metadata": {
        "colab": {},
        "colab_type": "code",
        "id": "XohZOTjR8ZyE"
      },
      "outputs": [
        {
          "name": "stdout",
          "output_type": "stream",
          "text": [
            "Model is 17032 bytes\n"
          ]
        }
      ],
      "source": [
        "import os\n",
        "model_size = os.path.getsize(\"/content/tiny_conv.tflite\")\n",
        "print(\"Model is %d bytes\" % model_size)"
      ]
    },
    {
      "cell_type": "markdown",
      "metadata": {
        "colab_type": "text",
        "id": "2pQnN0i_-0L2"
      },
      "source": [
        "Finally, we use xxd to transform the model into a source file that can be included in a C++ project and loaded by TensorFlow Lite for Microcontrollers."
      ]
    },
    {
      "cell_type": "code",
      "execution_count": 41,
      "metadata": {
        "colab": {},
        "colab_type": "code",
        "id": "eoYyh0VU8pca"
      },
      "outputs": [
        {
          "name": "stderr",
          "output_type": "stream",
          "text": [
            "'apt-get'��(��) ���� �Ǵ� �ܺ� ����, ������ �� �ִ� ���α׷�, �Ǵ�\n",
            "��ġ ������ �ƴմϴ�.\n"
          ]
        },
        {
          "name": "stderr",
          "output_type": "stream",
          "text": [
            "'cat'��(��) ���� �Ǵ� �ܺ� ����, ������ �� �ִ� ���α׷�, �Ǵ�\n",
            "��ġ ������ �ƴմϴ�.\n"
          ]
        }
      ],
      "source": [
        "# Install xxd if it is not available\n",
        "!apt-get -qq install xxd\n",
        "# Save the file as a C source file\n",
        "!xxd -i /content/tiny_conv.tflite > /content/tiny_conv.cc\n",
        "# Print the source file\n",
        "!cat /content/tiny_conv.cc"
      ]
    }
  ],
  "metadata": {
    "accelerator": "GPU",
    "colab": {
      "collapsed_sections": [],
      "name": "Train simple audio recognition model",
      "provenance": [],
      "version": "0.3.2"
    },
    "kernelspec": {
      "display_name": "TF1",
      "language": "python",
      "name": "python3"
    },
    "language_info": {
      "codemirror_mode": {
        "name": "ipython",
        "version": 3
      },
      "file_extension": ".py",
      "mimetype": "text/x-python",
      "name": "python",
      "nbconvert_exporter": "python",
      "pygments_lexer": "ipython3",
      "version": "3.7.12"
    }
  },
  "nbformat": 4,
  "nbformat_minor": 0
}
